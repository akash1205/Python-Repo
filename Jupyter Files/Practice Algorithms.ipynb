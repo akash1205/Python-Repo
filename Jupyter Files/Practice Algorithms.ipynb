{
 "cells": [
  {
   "cell_type": "code",
   "execution_count": null,
   "metadata": {
    "collapsed": true
   },
   "outputs": [],
   "source": [
    "x=input()\n",
    "input1 = x.split()\n",
    "n=int(input1[0])\n",
    "k=int(input1[1])\n",
    "y=input()\n",
    "input2 = y.split()\n",
    "s=list(input2[i] for i in range(len(input2)))\n",
    "print(n,k,input2)\n",
    "temp = list()\n",
    "final = list()\n",
    "for i in range(len(s)):\n",
    "    if s[i]/k != 0:\n",
    "        final.append(s[i])\n"
   ]
  }
 ],
 "metadata": {
  "kernelspec": {
   "display_name": "Python 3",
   "language": "python",
   "name": "python3"
  },
  "language_info": {
   "codemirror_mode": {
    "name": "ipython",
    "version": 3
   },
   "file_extension": ".py",
   "mimetype": "text/x-python",
   "name": "python",
   "nbconvert_exporter": "python",
   "pygments_lexer": "ipython3",
   "version": "3.6.0"
  }
 },
 "nbformat": 4,
 "nbformat_minor": 2
}
