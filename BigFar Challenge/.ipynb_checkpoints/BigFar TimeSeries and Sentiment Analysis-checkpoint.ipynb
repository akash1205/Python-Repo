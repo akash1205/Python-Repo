{
 "cells": [
  {
   "cell_type": "code",
   "execution_count": 62,
   "metadata": {
    "collapsed": false
   },
   "outputs": [],
   "source": [
    "import numpy as np \n",
    "import pandas as pd\n",
    "%matplotlib inline\n",
    "from wordcloud import WordCloud, STOPWORDS\n",
    "import matplotlib.pyplot as plt\n",
    "import re\n",
    "import seaborn as sns\n",
    "from IPython.display import display\n",
    "pd.options.mode.chained_assignment = None\n",
    "import matplotlib\n",
    "matplotlib.style.use('ggplot')"
   ]
  },
  {
   "cell_type": "code",
   "execution_count": 90,
   "metadata": {
    "collapsed": false
   },
   "outputs": [],
   "source": [
    "tweets = pd.read_csv('/Users/akashjain/Desktop/BigFar Challenge/Twitter Sentiment Analysis/demonetisation.csv', encoding = \"ISO-8859-1\")\n"
   ]
  },
  {
   "cell_type": "code",
   "execution_count": null,
   "metadata": {
    "collapsed": true
   },
   "outputs": [],
   "source": []
  },
  {
   "cell_type": "code",
   "execution_count": null,
   "metadata": {
    "collapsed": true
   },
   "outputs": [],
   "source": []
  },
  {
   "cell_type": "code",
   "execution_count": null,
   "metadata": {
    "collapsed": true
   },
   "outputs": [],
   "source": []
  },
  {
   "cell_type": "code",
   "execution_count": null,
   "metadata": {
    "collapsed": true
   },
   "outputs": [],
   "source": []
  },
  {
   "cell_type": "code",
   "execution_count": null,
   "metadata": {
    "collapsed": true
   },
   "outputs": [],
   "source": []
  },
  {
   "cell_type": "code",
   "execution_count": null,
   "metadata": {
    "collapsed": true
   },
   "outputs": [],
   "source": []
  },
  {
   "cell_type": "code",
   "execution_count": null,
   "metadata": {
    "collapsed": true
   },
   "outputs": [],
   "source": []
  },
  {
   "cell_type": "code",
   "execution_count": null,
   "metadata": {
    "collapsed": true
   },
   "outputs": [],
   "source": []
  },
  {
   "cell_type": "code",
   "execution_count": null,
   "metadata": {
    "collapsed": true
   },
   "outputs": [],
   "source": []
  },
  {
   "cell_type": "code",
   "execution_count": 86,
   "metadata": {
    "collapsed": false
   },
   "outputs": [
    {
     "name": "stdout",
     "output_type": "stream",
     "text": [
      "   username            date  retweets  favorites  \\\n",
      "0       NaN  12/30/16 18:07         1          0   \n",
      "1       NaN  12/30/16 13:50         0          0   \n",
      "2       NaN  12/30/16 13:25         5          3   \n",
      "\n",
      "                                                text  geo mentions  \\\n",
      "0  500-1000 _«Çö _éÇ_ç___åÇö _åÇ _ ...  NaN      NaN   \n",
      "1  Daily Withdrawal Limit from ATMs ... - https:/...  NaN      NaN   \n",
      "2  _åÇ ___ä__Ç _«Ç  __Çö_«_ç _Â...  NaN      NaN   \n",
      "\n",
      "                                            hashtags        id  \\\n",
      "0                          #currencyban #MindTheNews  8.15E+17   \n",
      "1  #CashBan #CashWithdrawalLimit #CurrencyBan #De...  8.15E+17   \n",
      "2                          #currencyban #MindTheNews  8.15E+17   \n",
      "\n",
      "                                           permalink Unnamed: 10  \n",
      "0  https://twitter.com/MindTheNews/status/8149712...         NaN  \n",
      "1  https://twitter.com/Punjabupdate/status/814906...         NaN  \n",
      "2  https://twitter.com/MindTheNews/status/8149002...         NaN  \n"
     ]
    }
   ],
   "source": [
    "print(tweets.head(3))"
   ]
  },
  {
   "cell_type": "code",
   "execution_count": null,
   "metadata": {
    "collapsed": true
   },
   "outputs": [],
   "source": []
  },
  {
   "cell_type": "code",
   "execution_count": null,
   "metadata": {
    "collapsed": true
   },
   "outputs": [],
   "source": []
  },
  {
   "cell_type": "code",
   "execution_count": null,
   "metadata": {
    "collapsed": true
   },
   "outputs": [],
   "source": []
  },
  {
   "cell_type": "code",
   "execution_count": 91,
   "metadata": {
    "collapsed": false
   },
   "outputs": [
    {
     "ename": "TypeError",
     "evalue": "'float' object is not subscriptable",
     "output_type": "error",
     "traceback": [
      "\u001b[0;31m---------------------------------------------------------------------------\u001b[0m",
      "\u001b[0;31mTypeError\u001b[0m                                 Traceback (most recent call last)",
      "\u001b[0;32m<ipython-input-91-00b59a0d01e2>\u001b[0m in \u001b[0;36m<module>\u001b[0;34m()\u001b[0m\n\u001b[1;32m      7\u001b[0m \u001b[0;32mfor\u001b[0m \u001b[0mi\u001b[0m \u001b[0;32min\u001b[0m \u001b[0mrange\u001b[0m\u001b[0;34m(\u001b[0m\u001b[0mlen\u001b[0m\u001b[0;34m(\u001b[0m\u001b[0mtweets\u001b[0m\u001b[0;34m[\u001b[0m\u001b[0;34m'text'\u001b[0m\u001b[0;34m]\u001b[0m\u001b[0;34m)\u001b[0m\u001b[0;34m)\u001b[0m\u001b[0;34m:\u001b[0m\u001b[0;34m\u001b[0m\u001b[0m\n\u001b[1;32m      8\u001b[0m     \u001b[0;32mtry\u001b[0m\u001b[0;34m:\u001b[0m\u001b[0;34m\u001b[0m\u001b[0m\n\u001b[0;32m----> 9\u001b[0;31m         \u001b[0mtweets\u001b[0m\u001b[0;34m[\u001b[0m\u001b[0;34m'tweetos'\u001b[0m\u001b[0;34m]\u001b[0m\u001b[0;34m[\u001b[0m\u001b[0mi\u001b[0m\u001b[0;34m]\u001b[0m \u001b[0;34m=\u001b[0m \u001b[0mtweets\u001b[0m\u001b[0;34m[\u001b[0m\u001b[0;34m'text'\u001b[0m\u001b[0;34m]\u001b[0m\u001b[0;34m.\u001b[0m\u001b[0mstr\u001b[0m\u001b[0;34m.\u001b[0m\u001b[0msplit\u001b[0m\u001b[0;34m(\u001b[0m\u001b[0;34m':'\u001b[0m\u001b[0;34m)\u001b[0m\u001b[0;34m[\u001b[0m\u001b[0mi\u001b[0m\u001b[0;34m]\u001b[0m\u001b[0;34m[\u001b[0m\u001b[0;36m0\u001b[0m\u001b[0;34m]\u001b[0m\u001b[0;34m\u001b[0m\u001b[0m\n\u001b[0m\u001b[1;32m     10\u001b[0m     \u001b[0;32mexcept\u001b[0m \u001b[0mAttributeError\u001b[0m\u001b[0;34m:\u001b[0m\u001b[0;34m\u001b[0m\u001b[0m\n\u001b[1;32m     11\u001b[0m         \u001b[0mtweets\u001b[0m\u001b[0;34m[\u001b[0m\u001b[0;34m'tweetos'\u001b[0m\u001b[0;34m]\u001b[0m\u001b[0;34m[\u001b[0m\u001b[0mi\u001b[0m\u001b[0;34m]\u001b[0m \u001b[0;34m=\u001b[0m \u001b[0;34m'other'\u001b[0m\u001b[0;34m\u001b[0m\u001b[0m\n",
      "\u001b[0;31mTypeError\u001b[0m: 'float' object is not subscriptable"
     ]
    }
   ],
   "source": [
    "import re\n",
    "#Preprocessing del RT @blablabla:\n",
    "tweets['text_new'] = ''\n",
    "tweets['tweetos'] = '' \n",
    "\n",
    "#add tweetos first part\n",
    "for i in range(len(tweets['text'])):\n",
    "    try:\n",
    "        tweets['tweetos'][i] = tweets['text'].str.split(':')[i][0]\n",
    "    except AttributeError:    \n",
    "        tweets['tweetos'][i] = 'other'\n",
    "\n",
    "#Preprocessing tweetos. select tweetos contains 'RT @'\n",
    "for i in range(len(tweets['text'])):\n",
    "    if tweets['tweetos'].str.contains('RT @')[i]  == False:\n",
    "        tweets['tweetos'][i] = 'other'\n",
    "\n",
    "#'text_new' is the feature 'text' without the tweetos    \n",
    "for i in range(len(tweets['text'])):\n",
    "    m = re.search('(?<=:)(.*)', tweets['text'][i])\n",
    "    if tweets['text'].str.contains('RT @')[i]  == True:\n",
    "        try:\n",
    "            tweets['text_new'][i]=m.group(0)\n",
    "        except AttributeError:\n",
    "            tweets['text_new'][i]=tweets['text'][i] \n",
    "    else:       \n",
    "        tweets['text_new'][i] =  tweets['text'][i]"
   ]
  },
  {
   "cell_type": "code",
   "execution_count": null,
   "metadata": {
    "collapsed": true
   },
   "outputs": [],
   "source": []
  },
  {
   "cell_type": "code",
   "execution_count": null,
   "metadata": {
    "collapsed": true
   },
   "outputs": [],
   "source": []
  },
  {
   "cell_type": "code",
   "execution_count": null,
   "metadata": {
    "collapsed": true
   },
   "outputs": [],
   "source": []
  },
  {
   "cell_type": "code",
   "execution_count": null,
   "metadata": {
    "collapsed": true
   },
   "outputs": [],
   "source": []
  },
  {
   "cell_type": "code",
   "execution_count": null,
   "metadata": {
    "collapsed": true
   },
   "outputs": [],
   "source": []
  },
  {
   "cell_type": "code",
   "execution_count": null,
   "metadata": {
    "collapsed": true
   },
   "outputs": [],
   "source": []
  },
  {
   "cell_type": "code",
   "execution_count": 68,
   "metadata": {
    "collapsed": false
   },
   "outputs": [
    {
     "name": "stdout",
     "output_type": "stream",
     "text": [
      "       username            date  retweets  favorites  \\\n",
      "0           NaN  12/30/16 18:53         1          1   \n",
      "1           NaN  12/30/16 17:28         0          0   \n",
      "2           NaN  12/30/16 16:51         0          1   \n",
      "3           NaN  12/30/16 16:51         5          3   \n",
      "4           NaN  12/30/16 15:17         2          1   \n",
      "5           NaN  12/30/16 14:40         9         11   \n",
      "6           NaN  12/30/16 14:39         0          2   \n",
      "7           NaN  12/30/16 14:21         0          1   \n",
      "8           NaN  12/30/16 14:12         1          0   \n",
      "9           NaN  12/30/16 14:04         3          0   \n",
      "10          NaN  12/30/16 14:03         0          0   \n",
      "11          NaN  12/30/16 13:51         1          1   \n",
      "12          NaN  12/30/16 13:43         4          2   \n",
      "13          NaN  12/30/16 13:37         1          0   \n",
      "14          NaN  12/30/16 13:36         1          2   \n",
      "15          NaN  12/30/16 13:35         0          0   \n",
      "16          NaN  12/30/16 13:28         0          1   \n",
      "17          NaN  12/30/16 13:27         1          0   \n",
      "18          NaN  12/30/16 13:21         2          1   \n",
      "19          NaN  12/30/16 13:00        10         10   \n",
      "20          NaN  12/30/16 12:58         1          2   \n",
      "21          NaN  12/30/16 12:55         0          0   \n",
      "22          NaN  12/30/16 12:52         1          0   \n",
      "23          NaN  12/30/16 12:49         1          0   \n",
      "24          NaN  12/30/16 12:36         1          1   \n",
      "25          NaN  12/30/16 12:31         0          0   \n",
      "26          NaN  12/30/16 12:28       270        192   \n",
      "27          NaN  12/30/16 12:27         5         12   \n",
      "28          NaN  12/30/16 12:19         1          0   \n",
      "29          NaN  12/30/16 12:15         2          2   \n",
      "...         ...             ...       ...        ...   \n",
      "33528       NaN  11/11/16 07:14         1          4   \n",
      "33529       NaN  11/11/16 07:07         0          0   \n",
      "33530       NaN  11/11/16 07:03         0          2   \n",
      "33531       NaN  11/11/16 07:03         0          1   \n",
      "33532       NaN  11/11/16 07:02         1          1   \n",
      "33533       NaN  11/11/16 07:01         1          1   \n",
      "33534       NaN  11/11/16 06:24         2          3   \n",
      "33535       NaN  11/11/16 05:38         0          0   \n",
      "33536       NaN  11/11/16 05:35        28        179   \n",
      "33537       NaN  11/11/16 04:46         0          0   \n",
      "33538       NaN  11/11/16 04:08         0          0   \n",
      "33539       NaN  11/11/16 03:49         0          0   \n",
      "33540       NaN  11/11/16 03:37         0          0   \n",
      "33541       NaN  11/11/16 03:37         0          0   \n",
      "33542       NaN  11/11/16 03:12         0          0   \n",
      "33543       NaN  11/11/16 03:02        45        216   \n",
      "33544       NaN  11/11/16 00:45         0          1   \n",
      "33545       NaN  11/10/16 23:25         0          0   \n",
      "33546       NaN  11/10/16 23:05         0          0   \n",
      "33547       NaN  11/10/16 21:53         0          0   \n",
      "33548       NaN  11/10/16 20:51         1          0   \n",
      "33549       NaN  11/10/16 12:16         2          1   \n",
      "33550       NaN  11/10/16 12:02         0          0   \n",
      "33551       NaN  11/10/16 11:48         0          0   \n",
      "33552       NaN  11/10/16 11:46         1          1   \n",
      "33553       NaN  11/10/16 11:39         1          0   \n",
      "33554       NaN  11/10/16 11:39         0          0   \n",
      "33555       NaN  11/10/16 10:59         0          0   \n",
      "33556       NaN  11/10/16 09:06         0          0   \n",
      "33557       NaN  11/10/16 08:42         0          0   \n",
      "\n",
      "                                                    text  geo  \\\n",
      "0      @hindustanse must consider bounty of this year...  NaN   \n",
      "1      Real Estate of Mumbai & its Suburbs is where d...  NaN   \n",
      "2      Opening an #ngo is now a big business - #black...  NaN   \n",
      "3                               #BlackMoney laundering ?  NaN   \n",
      "4      #DeMonetisation Courageous and Successful move...  NaN   \n",
      "5      Modi has not used the word  Blackmoney \" even ...  NaN   \n",
      "6      india government only dailymake new law for #D...  NaN   \n",
      "7      Modi #DeMonetisation is a Monumental failure,a...  NaN   \n",
      "8      DeMo critics are essentially saying it is pref...  NaN   \n",
      "9      DeMo critics are essentially saying a temporar...  NaN   \n",
      "10     Even many MLAs must be having more than _5,000...  NaN   \n",
      "11     1,061 I-T raids and more than Rs 4,313 Crore #...  NaN   \n",
      "12     Today is weekend Today is month end Today is y...  NaN   \n",
      "13     Indianewsup: Inkhabar: _____ __ ___ _______ __...  NaN   \n",
      "14     50 Days: Is PM Modi A Messiah Or a God? http:/...  NaN   \n",
      "15     Improve governance to curb #blackmoney menace:...  NaN   \n",
      "16     ____ ________ __ __ ____ __ __ ____ _____ __ _...  NaN   \n",
      "17     New disclaimer in Markets: Investments are sub...  NaN   \n",
      "18     ATM __ _____ ______ __ ____ 2,500 _____ __ ___...  NaN   \n",
      "19     Benefits of #demonetization Counterfeit Curren...  NaN   \n",
      "20     ______ _______ _____ ______ _______ __________...  NaN   \n",
      "21     #Demonetisation forced #blackmoney into the op...  NaN   \n",
      "22     Blackmoney holders in India be like.. #BlackMo...  NaN   \n",
      "23     __ __ ____ __ __ _____ __ __ ________ ______ _...  NaN   \n",
      "24     Listed Bankers! Let ready for sharp inquiry #B...  NaN   \n",
      "25     #Ndrangheta #Calabria Quante fesserie si sento...  NaN   \n",
      "26     Brilliant Outstanding Masterpiece By @ManojKur...  NaN   \n",
      "27     Friend, father & philosopher of #BlackMoney is...  NaN   \n",
      "28     RT Myth_Busterz: 50 ___ ____ ___ _______ 45 __...  NaN   \n",
      "29     *_____ ____ ______ __ ___ ______ ____ !* *___ ...  NaN   \n",
      "...                                                  ...  ...   \n",
      "33528  This news reader also warned of 500/1000 #Note...  NaN   \n",
      "33529  15 lacs,love jihad,____ ________,__ _____,____...  NaN   \n",
      "33530  #NoteBandi India Inc. welcomes move to demonet...  NaN   \n",
      "33531  #NoteBandi Experts laud Modi's push to curb bl...  NaN   \n",
      "33532  #notebandi @ZeeNews @aajtak @ndtv @indiatvnews...  NaN   \n",
      "33533  #IMF supports #NoteBandi ÔWe support the measu...  NaN   \n",
      "33534  Notebandi pe sawal kyu.. A tv channel running ...  NaN   \n",
      "33535          Wow rahul gandhi taking selfie #NoteBandi  NaN   \n",
      "33536  I repeat, #NoteBandi is best work by PM Modi J...  NaN   \n",
      "33537  R u sure you are journalist? NoteBandi aur Nas...  NaN   \n",
      "33538  Ye Notebandi Atankbaadiyo aur Bharashtachaariy...  NaN   \n",
      "33539  Neta samajh. Nahi pa rahe hai ki notebandi par...  NaN   \n",
      "33540  @PMOIndia @yadavakhilesh sir please don't forc...  NaN   \n",
      "33541  Congress went for 'nasbandi'; BJP for ' noteba...  NaN   \n",
      "33542  kabhi kabhi sher ka shikar karne ke liye bhed ...  NaN   \n",
      "33543  I think #NoteBandi has gone totally against Mo...  NaN   \n",
      "33544  #NoteBandi __ ______ __ ___ ______ __ __ ___ _...  NaN   \n",
      "33545                          no problem with notebandi  NaN   \n",
      "33546  congres ki nasbandi aur modi ji ki notebandi f...  NaN   \n",
      "33547  sir aap to against corruption ke biradri wale ...  NaN   \n",
      "33548  Jaise notebandi nahi unki nasbandi kardi ho Mo...  NaN   \n",
      "33549  #NoteBandi ___ ______ ___ __ _______ _____ __ ...  NaN   \n",
      "33550  sir, wts d reason for sp n bsp unrest after 50...  NaN   \n",
      "33551  500 1000 notebandi k baadSP BSP K baukhlahat k...  NaN   \n",
      "33552  #ByeByeBlackmoney . Notebandi , Ghoosbandi and...  NaN   \n",
      "33553  @narendramodi @PMOIndia #notebandi request to ...  NaN   \n",
      "33554  @narendramodi sir, aaj kuchh garibo mazdooro k...  NaN   \n",
      "33555  Ravish kya ye notebandi corruption rok payegi?...  NaN   \n",
      "33556  Notebandi has done Nusbandi of some. Remember ...  NaN   \n",
      "33557  @narendramodi @sardanarohit notebandi se jitni...  NaN   \n",
      "\n",
      "                                             mentions  \\\n",
      "0                                        @hindustanse   \n",
      "1                                                 NaN   \n",
      "2                                                 NaN   \n",
      "3                                                 NaN   \n",
      "4                   @BJP4India @ABVPRaj @narendramodi   \n",
      "5                                                 NaN   \n",
      "6                      @narendramodi @RashtrapatiBhvn   \n",
      "7                                                 NaN   \n",
      "8                                                 NaN   \n",
      "9                                                 NaN   \n",
      "10                                                NaN   \n",
      "11                                                NaN   \n",
      "12                                                NaN   \n",
      "13                                                NaN   \n",
      "14                                                NaN   \n",
      "15                                                NaN   \n",
      "16                                                NaN   \n",
      "17                                                NaN   \n",
      "18                                                NaN   \n",
      "19                                                NaN   \n",
      "20                                                NaN   \n",
      "21                                      @narendramodi   \n",
      "22                                                NaN   \n",
      "23                                                NaN   \n",
      "24                                                NaN   \n",
      "25                                                NaN   \n",
      "26             @ManojKureel @ArvindKejriwal @AxisBank   \n",
      "27                                                NaN   \n",
      "28                                                NaN   \n",
      "29                                                NaN   \n",
      "...                                               ...   \n",
      "33528                                             NaN   \n",
      "33529                                             NaN   \n",
      "33530                                             NaN   \n",
      "33531                                             NaN   \n",
      "33532  @ZeeNews @aajtak @ndtv @indiatvnews @abpnewstv   \n",
      "33533                                             NaN   \n",
      "33534                                             NaN   \n",
      "33535                                             NaN   \n",
      "33536                                             NaN   \n",
      "33537                                             NaN   \n",
      "33538                                             NaN   \n",
      "33539                                             NaN   \n",
      "33540                        @PMOIndia @yadavakhilesh   \n",
      "33541                                             NaN   \n",
      "33542                                             NaN   \n",
      "33543                                             NaN   \n",
      "33544                                             NaN   \n",
      "33545                                             NaN   \n",
      "33546                                             NaN   \n",
      "33547                                             NaN   \n",
      "33548                                             NaN   \n",
      "33549                                             NaN   \n",
      "33550                                             NaN   \n",
      "33551                                             NaN   \n",
      "33552                                             NaN   \n",
      "33553                         @narendramodi @PMOIndia   \n",
      "33554                                   @narendramodi   \n",
      "33555                                             NaN   \n",
      "33556                                             NaN   \n",
      "33557                     @narendramodi @sardanarohit   \n",
      "\n",
      "                                                hashtags           id  \\\n",
      "0                                                    NaN     8.15E+17   \n",
      "1                                                    NaN     8.15E+17   \n",
      "2      #ngo #blackmoney #whereisthemoneygoing #india ...     8.15E+17   \n",
      "3                                            #BlackMoney     8.15E+17   \n",
      "4                            #DeMonetisation #BlackMoney     8.15E+17   \n",
      "5                                                    NaN     8.15E+17   \n",
      "6                            #DeMonetisation #BlackMoney     8.15E+17   \n",
      "7           #DeMonetisation #BlackMoney #CashlessEconomy     8.15E+17   \n",
      "8                                                    NaN     8.15E+17   \n",
      "9                                                    NaN     8.15E+17   \n",
      "10                                           #BlackMoney     8.15E+17   \n",
      "11                           #BlackMoney #DeMonetisation     8.15E+17   \n",
      "12                                           #blackmoney     8.15E+17   \n",
      "13                      #DeMonetisation #BlackMoney #Not     8.15E+17   \n",
      "14     #modi #demonetisation #blackmoney #digitalindi...     8.15E+17   \n",
      "15              #blackmoney #RBI #Economy #BankingSector     8.15E+17   \n",
      "16                                           #BlackMoney     8.15E+17   \n",
      "17                           #DeMonetisation #BlackMoney     8.15E+17   \n",
      "18                           #DeMonetisation #BlackMoney     8.15E+17   \n",
      "19                                       #demonetization     8.15E+17   \n",
      "20                         #RBI #CBI #BlackMoney #ITRaid     8.15E+17   \n",
      "21                  #Demonetisation #blackmoney #Economy     8.15E+17   \n",
      "22                                #BlackMoney #500 #1000     8.15E+17   \n",
      "23                             #BlackMoney #ModiNextMove     8.15E+17   \n",
      "24                                           #BlackMoney     8.15E+17   \n",
      "25           #Ndrangheta #Calabria #BlackMoney #iacchite     8.15E+17   \n",
      "26                                                   NaN     8.15E+17   \n",
      "27     #BlackMoney #Chidambaram #BestMVTPoll #MainHoo...     8.15E+17   \n",
      "28                                           #BlackMoney     8.15E+17   \n",
      "29                           #DeMonetisation #BlackMoney     8.15E+17   \n",
      "...                                                  ...          ...   \n",
      "33528                                         #NoteBandi   7.9705E+17   \n",
      "33529                                                NaN  7.97048E+17   \n",
      "33530                                         #NoteBandi  7.97047E+17   \n",
      "33531                                         #NoteBandi  7.97047E+17   \n",
      "33532                                         #notebandi  7.97047E+17   \n",
      "33533                                    #IMF #NoteBandi  7.97047E+17   \n",
      "33534                                                NaN  7.97037E+17   \n",
      "33535                                         #NoteBandi  7.97026E+17   \n",
      "33536                                         #NoteBandi  7.97025E+17   \n",
      "33537                                                NaN  7.97013E+17   \n",
      "33538                                                NaN  7.97003E+17   \n",
      "33539                                                NaN  7.96998E+17   \n",
      "33540                                                NaN  7.96995E+17   \n",
      "33541                                                NaN  7.96995E+17   \n",
      "33542                                         #notebandi  7.96989E+17   \n",
      "33543                                         #NoteBandi  7.96986E+17   \n",
      "33544                                         #NoteBandi  7.96952E+17   \n",
      "33545                                                NaN  7.96932E+17   \n",
      "33546                                                NaN  7.96927E+17   \n",
      "33547                                                NaN  7.96909E+17   \n",
      "33548                                                NaN  7.96893E+17   \n",
      "33549                                         #NoteBandi  7.96764E+17   \n",
      "33550                                                NaN   7.9676E+17   \n",
      "33551                                                NaN  7.96756E+17   \n",
      "33552                                  #ByeByeBlackmoney  7.96756E+17   \n",
      "33553                                         #notebandi  7.96754E+17   \n",
      "33554                                                NaN  7.96754E+17   \n",
      "33555                                       #RavishKumar  7.96744E+17   \n",
      "33556                                                NaN  7.96716E+17   \n",
      "33557                                                NaN   7.9671E+17   \n",
      "\n",
      "                                               permalink text_new  \\\n",
      "0      https://twitter.com/mike921112/status/81498280...            \n",
      "1      https://twitter.com/fieryindian/status/8149613...            \n",
      "2      https://twitter.com/christinenay/status/814952...            \n",
      "3      https://twitter.com/mike921112/status/81495205...            \n",
      "4      https://twitter.com/Utkarsh_22ABVP/status/8149...            \n",
      "5      https://twitter.com/milligazette/status/814919...            \n",
      "6      https://twitter.com/vignesh7773/status/8149188...            \n",
      "7      https://twitter.com/Khan_hits/status/814914409...            \n",
      "8      https://twitter.com/DEArdeshir/status/81491198...            \n",
      "9      https://twitter.com/DEArdeshir/status/81491015...            \n",
      "10     https://twitter.com/LegalKant/status/814909815...            \n",
      "11     https://twitter.com/TheNewIndia/status/8149068...            \n",
      "12     https://twitter.com/akhileshmoury15/status/814...            \n",
      "13     https://twitter.com/amlendra/status/8149032628...            \n",
      "14     https://twitter.com/TheCitizen_in/status/81490...            \n",
      "15     https://twitter.com/InvGurInd/status/814902686...            \n",
      "16     https://twitter.com/tejeshwarpandey/status/814...            \n",
      "17     https://twitter.com/KMShrma/status/81490085156...            \n",
      "18     https://twitter.com/KMShrma/status/81489924196...            \n",
      "19     https://twitter.com/spati2012/status/814894007...            \n",
      "20     https://twitter.com/RamRishee/status/814893339...            \n",
      "21     https://twitter.com/InvGurInd/status/814892619...            \n",
      "22     https://twitter.com/Sinnerr87/status/814891964...            \n",
      "23     https://twitter.com/janebhidoyarro/status/8148...            \n",
      "24     https://twitter.com/Kjoshi003/status/814887821...            \n",
      "25     https://twitter.com/Laurignano/status/81488671...            \n",
      "26     https://twitter.com/YesIamSaffron/status/81488...            \n",
      "27     https://twitter.com/myvotetoday/status/8148855...            \n",
      "28     https://twitter.com/AbdulKadirNSUI/status/8148...            \n",
      "29     https://twitter.com/KMShrma/status/81488268407...            \n",
      "...                                                  ...      ...   \n",
      "33528  https://twitter.com/vikingthakkar/status/79704...            \n",
      "33529  https://twitter.com/nikhiljeet04/status/797047...            \n",
      "33530  https://twitter.com/vikingthakkar/status/79704...            \n",
      "33531  https://twitter.com/vikingthakkar/status/79704...            \n",
      "33532  https://twitter.com/shahidrkhn/status/79704677...            \n",
      "33533  https://twitter.com/vikingthakkar/status/79704...            \n",
      "33534  https://twitter.com/AshishNBT/status/797037341...            \n",
      "33535  https://twitter.com/beingsanjay1069/status/797...            \n",
      "33536  https://twitter.com/kamaalrkhan/status/7970250...            \n",
      "33537  https://twitter.com/The_Conformer/status/79701...            \n",
      "33538  https://twitter.com/Xarmymishra/status/7970030...            \n",
      "33539  https://twitter.com/dalesh_tyagi/status/796998...            \n",
      "33540  https://twitter.com/k87_kumar/status/796995282...            \n",
      "33541  https://twitter.com/92b9093cb67d435/status/796...            \n",
      "33542  https://twitter.com/Driver_sahab/status/796989...            \n",
      "33543  https://twitter.com/kamaalrkhan/status/7969864...            \n",
      "33544  https://twitter.com/sekar_991/status/796952060...            \n",
      "33545  https://twitter.com/LalchandTalrej3/status/796...            \n",
      "33546  https://twitter.com/naveenk70138524/status/796...            \n",
      "33547  https://twitter.com/Xarmymishra/status/7969086...            \n",
      "33548  https://twitter.com/SamWit_Wicky/status/796892...            \n",
      "33549  https://twitter.com/sekar_991/status/796763550...            \n",
      "33550  https://twitter.com/abhay9110/status/796760061...            \n",
      "33551  https://twitter.com/abhay9110/status/796756347...            \n",
      "33552  https://twitter.com/tingalsanjay/status/796755...            \n",
      "33553  https://twitter.com/REETURAJK/status/796754179...            \n",
      "33554  https://twitter.com/abhay9110/status/796754126...            \n",
      "33555  https://twitter.com/kulwant01anand/status/7967...            \n",
      "33556  https://twitter.com/rcgoyel/status/79671572621...            \n",
      "33557  https://twitter.com/amitpharma86/status/796709...            \n",
      "\n",
      "                                                 tweetos  \n",
      "0      @hindustanse must consider bounty of this year...  \n",
      "1      Real Estate of Mumbai & its Suburbs is where d...  \n",
      "2      Opening an #ngo is now a big business - #black...  \n",
      "3                               #BlackMoney laundering ?  \n",
      "4      #DeMonetisation Courageous and Successful move...  \n",
      "5      Modi has not used the word  Blackmoney \" even ...  \n",
      "6      india government only dailymake new law for #D...  \n",
      "7      Modi #DeMonetisation is a Monumental failure,a...  \n",
      "8      DeMo critics are essentially saying it is pref...  \n",
      "9      DeMo critics are essentially saying a temporar...  \n",
      "10     Even many MLAs must be having more than _5,000...  \n",
      "11     1,061 I-T raids and more than Rs 4,313 Crore #...  \n",
      "12     Today is weekend Today is month end Today is y...  \n",
      "13                                           Indianewsup  \n",
      "14                                               50 Days  \n",
      "15         Improve governance to curb #blackmoney menace  \n",
      "16     ____ ________ __ __ ____ __ __ ____ _____ __ _...  \n",
      "17                             New disclaimer in Markets  \n",
      "18     ATM __ _____ ______ __ ____ 2,500 _____ __ ___...  \n",
      "19     Benefits of #demonetization Counterfeit Curren...  \n",
      "20     ______ _______ _____ ______ _______ __________...  \n",
      "21      #Demonetisation forced #blackmoney into the open  \n",
      "22     Blackmoney holders in India be like.. #BlackMo...  \n",
      "23     __ __ ____ __ __ _____ __ __ ________ ______ _...  \n",
      "24     Listed Bankers! Let ready for sharp inquiry #B...  \n",
      "25     #Ndrangheta #Calabria Quante fesserie si sento...  \n",
      "26     Brilliant Outstanding Masterpiece By @ManojKur...  \n",
      "27     Friend, father & philosopher of #BlackMoney is...  \n",
      "28                                       RT Myth_Busterz  \n",
      "29     *_____ ____ ______ __ ___ ______ ____ !* *___ ...  \n",
      "...                                                  ...  \n",
      "33528                                                     \n",
      "33529                                                     \n",
      "33530                                                     \n",
      "33531                                                     \n",
      "33532                                                     \n",
      "33533                                                     \n",
      "33534                                                     \n",
      "33535                                                     \n",
      "33536                                                     \n",
      "33537                                                     \n",
      "33538                                                     \n",
      "33539                                                     \n",
      "33540                                                     \n",
      "33541                                                     \n",
      "33542                                                     \n",
      "33543                                                     \n",
      "33544                                                     \n",
      "33545                                                     \n",
      "33546                                                     \n",
      "33547                                                     \n",
      "33548                                                     \n",
      "33549                                                     \n",
      "33550                                                     \n",
      "33551                                                     \n",
      "33552                                                     \n",
      "33553                                                     \n",
      "33554                                                     \n",
      "33555                                                     \n",
      "33556                                                     \n",
      "33557                                                     \n",
      "\n",
      "[33558 rows x 12 columns]\n"
     ]
    }
   ],
   "source": [
    "print(tweets)"
   ]
  },
  {
   "cell_type": "code",
   "execution_count": null,
   "metadata": {
    "collapsed": true
   },
   "outputs": [],
   "source": []
  },
  {
   "cell_type": "code",
   "execution_count": 80,
   "metadata": {
    "collapsed": false
   },
   "outputs": [
    {
     "data": {
      "image/png": "[encoded data removed]",
      "text/plain": [
       "<matplotlib.figure.Figure at 0x10e3e7550>"
      ]
     },
     "metadata": {},
     "output_type": "display_data"
    }
   ],
   "source": [
    "from wordcloud import WordCloud, STOPWORDS\n",
    "import matplotlib.pyplot as plt\n",
    "\n",
    "def wordcloud_by_province(tweets):\n",
    "    stopwords = set(STOPWORDS)\n",
    "    stopwords.add(\"https\")\n",
    "    stopwords.add(\"00A0\")\n",
    "    stopwords.add(\"00BD\")\n",
    "    stopwords.add(\"00B8\")\n",
    "    stopwords.add(\"ed\")\n",
    "    stopwords.add(\"demonetization\")\n",
    "    stopwords.add(\"Demonetization co\")\n",
    "    #Narendra Modi is the Prime minister of India\n",
    "    stopwords.add(\"lakh\")\n",
    "    wordcloud = WordCloud(background_color=\"white\",stopwords=stopwords,random_state = 2016).generate(\" \".join([i for i in tweets['text_new'].str.upper()]))\n",
    "    plt.imshow(wordcloud)\n",
    "    plt.axis(\"off\")\n",
    "    plt.title(\"Demonetization\")\n",
    "\n",
    "wordcloud_by_province(tweets) "
   ]
  },
  {
   "cell_type": "code",
   "execution_count": null,
   "metadata": {
    "collapsed": true
   },
   "outputs": [],
   "source": []
  },
  {
   "cell_type": "code",
   "execution_count": null,
   "metadata": {
    "collapsed": true
   },
   "outputs": [],
   "source": []
  },
  {
   "cell_type": "code",
   "execution_count": null,
   "metadata": {
    "collapsed": true
   },
   "outputs": [],
   "source": []
  },
  {
   "cell_type": "code",
   "execution_count": null,
   "metadata": {
    "collapsed": true
   },
   "outputs": [],
   "source": []
  },
  {
   "cell_type": "code",
   "execution_count": null,
   "metadata": {
    "collapsed": true
   },
   "outputs": [],
   "source": [
    "WordCloud"
   ]
  },
  {
   "cell_type": "code",
   "execution_count": 72,
   "metadata": {
    "collapsed": false
   },
   "outputs": [
    {
     "ename": "ValueError",
     "evalue": "cannot convert float NaN to integer",
     "output_type": "error",
     "traceback": [
      "\u001b[0;31m---------------------------------------------------------------------------\u001b[0m",
      "\u001b[0;31mValueError\u001b[0m                                Traceback (most recent call last)",
      "\u001b[0;32m<ipython-input-72-87f4fc8bca19>\u001b[0m in \u001b[0;36m<module>\u001b[0;34m()\u001b[0m\n\u001b[1;32m     17\u001b[0m     \u001b[0mplt\u001b[0m\u001b[0;34m.\u001b[0m\u001b[0mtitle\u001b[0m\u001b[0;34m(\u001b[0m\u001b[0;34m\"Tweets with word 'GDP'\"\u001b[0m\u001b[0;34m)\u001b[0m\u001b[0;34m\u001b[0m\u001b[0m\n\u001b[1;32m     18\u001b[0m \u001b[0;34m\u001b[0m\u001b[0m\n\u001b[0;32m---> 19\u001b[0;31m \u001b[0mwordcloud_by_province\u001b[0m\u001b[0;34m(\u001b[0m\u001b[0mtweets\u001b[0m\u001b[0;34m)\u001b[0m\u001b[0;34m\u001b[0m\u001b[0m\n\u001b[0m",
      "\u001b[0;32m<ipython-input-72-87f4fc8bca19>\u001b[0m in \u001b[0;36mwordcloud_by_province\u001b[0;34m(tweets)\u001b[0m\n\u001b[1;32m      1\u001b[0m \u001b[0;32mdef\u001b[0m \u001b[0mwordcloud_by_province\u001b[0m\u001b[0;34m(\u001b[0m\u001b[0mtweets\u001b[0m\u001b[0;34m)\u001b[0m\u001b[0;34m:\u001b[0m\u001b[0;34m\u001b[0m\u001b[0m\n\u001b[0;32m----> 2\u001b[0;31m     \u001b[0ma\u001b[0m \u001b[0;34m=\u001b[0m \u001b[0mpd\u001b[0m\u001b[0;34m.\u001b[0m\u001b[0mDataFrame\u001b[0m\u001b[0;34m(\u001b[0m\u001b[0mtweets\u001b[0m\u001b[0;34m[\u001b[0m\u001b[0;34m'text'\u001b[0m\u001b[0;34m]\u001b[0m\u001b[0;34m.\u001b[0m\u001b[0mstr\u001b[0m\u001b[0;34m.\u001b[0m\u001b[0mcontains\u001b[0m\u001b[0;34m(\u001b[0m\u001b[0;34m\"GDP\"\u001b[0m\u001b[0;34m)\u001b[0m\u001b[0;34m.\u001b[0m\u001b[0mastype\u001b[0m\u001b[0;34m(\u001b[0m\u001b[0mint\u001b[0m\u001b[0;34m)\u001b[0m\u001b[0;34m)\u001b[0m\u001b[0;34m\u001b[0m\u001b[0m\n\u001b[0m\u001b[1;32m      3\u001b[0m     \u001b[0mb\u001b[0m \u001b[0;34m=\u001b[0m \u001b[0mlist\u001b[0m\u001b[0;34m(\u001b[0m\u001b[0ma\u001b[0m\u001b[0;34m[\u001b[0m\u001b[0ma\u001b[0m\u001b[0;34m[\u001b[0m\u001b[0;34m'text'\u001b[0m\u001b[0;34m]\u001b[0m\u001b[0;34m==\u001b[0m\u001b[0;36m1\u001b[0m\u001b[0;34m]\u001b[0m\u001b[0;34m.\u001b[0m\u001b[0mindex\u001b[0m\u001b[0;34m.\u001b[0m\u001b[0mvalues\u001b[0m\u001b[0;34m)\u001b[0m\u001b[0;34m\u001b[0m\u001b[0m\n\u001b[1;32m      4\u001b[0m     \u001b[0mstopwords\u001b[0m \u001b[0;34m=\u001b[0m \u001b[0mset\u001b[0m\u001b[0;34m(\u001b[0m\u001b[0mSTOPWORDS\u001b[0m\u001b[0;34m)\u001b[0m\u001b[0;34m\u001b[0m\u001b[0m\n\u001b[1;32m      5\u001b[0m     \u001b[0mstopwords\u001b[0m\u001b[0;34m.\u001b[0m\u001b[0madd\u001b[0m\u001b[0;34m(\u001b[0m\u001b[0;34m\"https\"\u001b[0m\u001b[0;34m)\u001b[0m\u001b[0;34m\u001b[0m\u001b[0m\n",
      "\u001b[0;32m/anaconda/lib/python3.6/site-packages/pandas/core/generic.py\u001b[0m in \u001b[0;36mastype\u001b[0;34m(self, dtype, copy, raise_on_error, **kwargs)\u001b[0m\n\u001b[1;32m   3052\u001b[0m         \u001b[0;31m# else, only a single dtype is given\u001b[0m\u001b[0;34m\u001b[0m\u001b[0;34m\u001b[0m\u001b[0m\n\u001b[1;32m   3053\u001b[0m         new_data = self._data.astype(dtype=dtype, copy=copy,\n\u001b[0;32m-> 3054\u001b[0;31m                                      raise_on_error=raise_on_error, **kwargs)\n\u001b[0m\u001b[1;32m   3055\u001b[0m         \u001b[0;32mreturn\u001b[0m \u001b[0mself\u001b[0m\u001b[0;34m.\u001b[0m\u001b[0m_constructor\u001b[0m\u001b[0;34m(\u001b[0m\u001b[0mnew_data\u001b[0m\u001b[0;34m)\u001b[0m\u001b[0;34m.\u001b[0m\u001b[0m__finalize__\u001b[0m\u001b[0;34m(\u001b[0m\u001b[0mself\u001b[0m\u001b[0;34m)\u001b[0m\u001b[0;34m\u001b[0m\u001b[0m\n\u001b[1;32m   3056\u001b[0m \u001b[0;34m\u001b[0m\u001b[0m\n",
      "\u001b[0;32m/anaconda/lib/python3.6/site-packages/pandas/core/internals.py\u001b[0m in \u001b[0;36mastype\u001b[0;34m(self, dtype, **kwargs)\u001b[0m\n\u001b[1;32m   3187\u001b[0m \u001b[0;34m\u001b[0m\u001b[0m\n\u001b[1;32m   3188\u001b[0m     \u001b[0;32mdef\u001b[0m \u001b[0mastype\u001b[0m\u001b[0;34m(\u001b[0m\u001b[0mself\u001b[0m\u001b[0;34m,\u001b[0m \u001b[0mdtype\u001b[0m\u001b[0;34m,\u001b[0m \u001b[0;34m**\u001b[0m\u001b[0mkwargs\u001b[0m\u001b[0;34m)\u001b[0m\u001b[0;34m:\u001b[0m\u001b[0;34m\u001b[0m\u001b[0m\n\u001b[0;32m-> 3189\u001b[0;31m         \u001b[0;32mreturn\u001b[0m \u001b[0mself\u001b[0m\u001b[0;34m.\u001b[0m\u001b[0mapply\u001b[0m\u001b[0;34m(\u001b[0m\u001b[0;34m'astype'\u001b[0m\u001b[0;34m,\u001b[0m \u001b[0mdtype\u001b[0m\u001b[0;34m=\u001b[0m\u001b[0mdtype\u001b[0m\u001b[0;34m,\u001b[0m \u001b[0;34m**\u001b[0m\u001b[0mkwargs\u001b[0m\u001b[0;34m)\u001b[0m\u001b[0;34m\u001b[0m\u001b[0m\n\u001b[0m\u001b[1;32m   3190\u001b[0m \u001b[0;34m\u001b[0m\u001b[0m\n\u001b[1;32m   3191\u001b[0m     \u001b[0;32mdef\u001b[0m \u001b[0mconvert\u001b[0m\u001b[0;34m(\u001b[0m\u001b[0mself\u001b[0m\u001b[0;34m,\u001b[0m \u001b[0;34m**\u001b[0m\u001b[0mkwargs\u001b[0m\u001b[0;34m)\u001b[0m\u001b[0;34m:\u001b[0m\u001b[0;34m\u001b[0m\u001b[0m\n",
      "\u001b[0;32m/anaconda/lib/python3.6/site-packages/pandas/core/internals.py\u001b[0m in \u001b[0;36mapply\u001b[0;34m(self, f, axes, filter, do_integrity_check, consolidate, **kwargs)\u001b[0m\n\u001b[1;32m   3054\u001b[0m \u001b[0;34m\u001b[0m\u001b[0m\n\u001b[1;32m   3055\u001b[0m             \u001b[0mkwargs\u001b[0m\u001b[0;34m[\u001b[0m\u001b[0;34m'mgr'\u001b[0m\u001b[0;34m]\u001b[0m \u001b[0;34m=\u001b[0m \u001b[0mself\u001b[0m\u001b[0;34m\u001b[0m\u001b[0m\n\u001b[0;32m-> 3056\u001b[0;31m             \u001b[0mapplied\u001b[0m \u001b[0;34m=\u001b[0m \u001b[0mgetattr\u001b[0m\u001b[0;34m(\u001b[0m\u001b[0mb\u001b[0m\u001b[0;34m,\u001b[0m \u001b[0mf\u001b[0m\u001b[0;34m)\u001b[0m\u001b[0;34m(\u001b[0m\u001b[0;34m**\u001b[0m\u001b[0mkwargs\u001b[0m\u001b[0;34m)\u001b[0m\u001b[0;34m\u001b[0m\u001b[0m\n\u001b[0m\u001b[1;32m   3057\u001b[0m             \u001b[0mresult_blocks\u001b[0m \u001b[0;34m=\u001b[0m \u001b[0m_extend_blocks\u001b[0m\u001b[0;34m(\u001b[0m\u001b[0mapplied\u001b[0m\u001b[0;34m,\u001b[0m \u001b[0mresult_blocks\u001b[0m\u001b[0;34m)\u001b[0m\u001b[0;34m\u001b[0m\u001b[0m\n\u001b[1;32m   3058\u001b[0m \u001b[0;34m\u001b[0m\u001b[0m\n",
      "\u001b[0;32m/anaconda/lib/python3.6/site-packages/pandas/core/internals.py\u001b[0m in \u001b[0;36mastype\u001b[0;34m(self, dtype, copy, raise_on_error, values, **kwargs)\u001b[0m\n\u001b[1;32m    459\u001b[0m                **kwargs):\n\u001b[1;32m    460\u001b[0m         return self._astype(dtype, copy=copy, raise_on_error=raise_on_error,\n\u001b[0;32m--> 461\u001b[0;31m                             values=values, **kwargs)\n\u001b[0m\u001b[1;32m    462\u001b[0m \u001b[0;34m\u001b[0m\u001b[0m\n\u001b[1;32m    463\u001b[0m     def _astype(self, dtype, copy=False, raise_on_error=True, values=None,\n",
      "\u001b[0;32m/anaconda/lib/python3.6/site-packages/pandas/core/internals.py\u001b[0m in \u001b[0;36m_astype\u001b[0;34m(self, dtype, copy, raise_on_error, values, klass, mgr, **kwargs)\u001b[0m\n\u001b[1;32m    502\u001b[0m \u001b[0;34m\u001b[0m\u001b[0m\n\u001b[1;32m    503\u001b[0m                 \u001b[0;31m# _astype_nansafe works fine with 1-d only\u001b[0m\u001b[0;34m\u001b[0m\u001b[0;34m\u001b[0m\u001b[0m\n\u001b[0;32m--> 504\u001b[0;31m                 \u001b[0mvalues\u001b[0m \u001b[0;34m=\u001b[0m \u001b[0m_astype_nansafe\u001b[0m\u001b[0;34m(\u001b[0m\u001b[0mvalues\u001b[0m\u001b[0;34m.\u001b[0m\u001b[0mravel\u001b[0m\u001b[0;34m(\u001b[0m\u001b[0;34m)\u001b[0m\u001b[0;34m,\u001b[0m \u001b[0mdtype\u001b[0m\u001b[0;34m,\u001b[0m \u001b[0mcopy\u001b[0m\u001b[0;34m=\u001b[0m\u001b[0;32mTrue\u001b[0m\u001b[0;34m)\u001b[0m\u001b[0;34m\u001b[0m\u001b[0m\n\u001b[0m\u001b[1;32m    505\u001b[0m                 \u001b[0mvalues\u001b[0m \u001b[0;34m=\u001b[0m \u001b[0mvalues\u001b[0m\u001b[0;34m.\u001b[0m\u001b[0mreshape\u001b[0m\u001b[0;34m(\u001b[0m\u001b[0mself\u001b[0m\u001b[0;34m.\u001b[0m\u001b[0mshape\u001b[0m\u001b[0;34m)\u001b[0m\u001b[0;34m\u001b[0m\u001b[0m\n\u001b[1;32m    506\u001b[0m \u001b[0;34m\u001b[0m\u001b[0m\n",
      "\u001b[0;32m/anaconda/lib/python3.6/site-packages/pandas/types/cast.py\u001b[0m in \u001b[0;36m_astype_nansafe\u001b[0;34m(arr, dtype, copy)\u001b[0m\n\u001b[1;32m    532\u001b[0m     \u001b[0;32melif\u001b[0m \u001b[0marr\u001b[0m\u001b[0;34m.\u001b[0m\u001b[0mdtype\u001b[0m \u001b[0;34m==\u001b[0m \u001b[0mnp\u001b[0m\u001b[0;34m.\u001b[0m\u001b[0mobject_\u001b[0m \u001b[0;32mand\u001b[0m \u001b[0mnp\u001b[0m\u001b[0;34m.\u001b[0m\u001b[0missubdtype\u001b[0m\u001b[0;34m(\u001b[0m\u001b[0mdtype\u001b[0m\u001b[0;34m.\u001b[0m\u001b[0mtype\u001b[0m\u001b[0;34m,\u001b[0m \u001b[0mnp\u001b[0m\u001b[0;34m.\u001b[0m\u001b[0minteger\u001b[0m\u001b[0;34m)\u001b[0m\u001b[0;34m:\u001b[0m\u001b[0;34m\u001b[0m\u001b[0m\n\u001b[1;32m    533\u001b[0m         \u001b[0;31m# work around NumPy brokenness, #1987\u001b[0m\u001b[0;34m\u001b[0m\u001b[0;34m\u001b[0m\u001b[0m\n\u001b[0;32m--> 534\u001b[0;31m         \u001b[0;32mreturn\u001b[0m \u001b[0mlib\u001b[0m\u001b[0;34m.\u001b[0m\u001b[0mastype_intsafe\u001b[0m\u001b[0;34m(\u001b[0m\u001b[0marr\u001b[0m\u001b[0;34m.\u001b[0m\u001b[0mravel\u001b[0m\u001b[0;34m(\u001b[0m\u001b[0;34m)\u001b[0m\u001b[0;34m,\u001b[0m \u001b[0mdtype\u001b[0m\u001b[0;34m)\u001b[0m\u001b[0;34m.\u001b[0m\u001b[0mreshape\u001b[0m\u001b[0;34m(\u001b[0m\u001b[0marr\u001b[0m\u001b[0;34m.\u001b[0m\u001b[0mshape\u001b[0m\u001b[0;34m)\u001b[0m\u001b[0;34m\u001b[0m\u001b[0m\n\u001b[0m\u001b[1;32m    535\u001b[0m \u001b[0;34m\u001b[0m\u001b[0m\n\u001b[1;32m    536\u001b[0m     \u001b[0;32mif\u001b[0m \u001b[0mcopy\u001b[0m\u001b[0;34m:\u001b[0m\u001b[0;34m\u001b[0m\u001b[0m\n",
      "\u001b[0;32mpandas/lib.pyx\u001b[0m in \u001b[0;36mpandas.lib.astype_intsafe (pandas/lib.c:17409)\u001b[0;34m()\u001b[0m\n",
      "\u001b[0;32mpandas/src/util.pxd\u001b[0m in \u001b[0;36mutil.set_value_at_unsafe (pandas/lib.c:72777)\u001b[0;34m()\u001b[0m\n",
      "\u001b[0;31mValueError\u001b[0m: cannot convert float NaN to integer"
     ]
    }
   ],
   "source": [
    "def wordcloud_by_province(tweets):\n",
    "    a = pd.DataFrame(tweets['text'].str.contains(\"GDP\").astype(int))\n",
    "    b = list(a[a['text']==1].index.values)\n",
    "    stopwords = set(STOPWORDS)\n",
    "    stopwords.add(\"https\")\n",
    "    stopwords.add(\"terrorists\")\n",
    "    stopwords.add(\"00A0\")\n",
    "    stopwords.add(\"00BD\")\n",
    "    stopwords.add(\"00B8\")\n",
    "    stopwords.add(\"ed\")\n",
    "    stopwords.add(\"demonetization\")\n",
    "    stopwords.add(\"Demonetization co\")\n",
    "    stopwords.add(\"lakh\")\n",
    "    wordcloud = WordCloud(background_color=\"white\",stopwords=stopwords,random_state = 2016).generate(\" \".join([i for i in tweets.ix[b,:]['text_new'].str.upper()]))\n",
    "    plt.imshow(wordcloud)\n",
    "    plt.axis(\"off\")\n",
    "    plt.title(\"Tweets with word 'GDP'\")\n",
    "\n",
    "wordcloud_by_province(tweets)"
   ]
  },
  {
   "cell_type": "code",
   "execution_count": null,
   "metadata": {
    "collapsed": true
   },
   "outputs": [],
   "source": []
  },
  {
   "cell_type": "code",
   "execution_count": null,
   "metadata": {
    "collapsed": false
   },
   "outputs": [],
   "source": [
    "def wordcloud_by_province(tweets):\n",
    "    a = pd.DataFrame(tweets['text'].str.contains(\"narendramodi\").astype(int))\n",
    "    b = list(a[a['text']==1].index.values)\n",
    "    stopwords = set(STOPWORDS)\n",
    "    stopwords.add(\"narendramodi\")\n",
    "    stopwords.add(\"https\")\n",
    "    stopwords.add(\"00A0\")\n",
    "    stopwords.add(\"00BD\")\n",
    "    stopwords.add(\"00B8\")\n",
    "    stopwords.add(\"ed\")\n",
    "    stopwords.add(\"demonetization\")\n",
    "    stopwords.add(\"Demonetization co\")\n",
    "    stopwords.add(\"lakh\")\n",
    "    wordcloud = WordCloud(background_color=\"white\",stopwords=stopwords,random_state = 2016).generate(\" \".join([i for i in tweets.ix[b,:]['text_new'].str.upper()]))\n",
    "    plt.imshow(wordcloud)\n",
    "    plt.axis(\"off\")\n",
    "    plt.title(\"Tweets with word 'narendramodi'\")\n",
    "\n",
    "wordcloud_by_province(tweets)"
   ]
  },
  {
   "cell_type": "code",
   "execution_count": null,
   "metadata": {
    "collapsed": true
   },
   "outputs": [],
   "source": [
    "TimeSeries"
   ]
  },
  {
   "cell_type": "code",
   "execution_count": 73,
   "metadata": {
    "collapsed": false
   },
   "outputs": [
    {
     "name": "stdout",
     "output_type": "stream",
     "text": [
      "count    33558.000000\n",
      "mean         4.628673\n",
      "std         32.631594\n",
      "min          0.000000\n",
      "25%          0.000000\n",
      "50%          0.000000\n",
      "75%          2.000000\n",
      "max       1773.000000\n",
      "Name: retweets, dtype: float64\n"
     ]
    }
   ],
   "source": [
    "print(tweets['retweets'].describe())"
   ]
  },
  {
   "cell_type": "code",
   "execution_count": null,
   "metadata": {
    "collapsed": true
   },
   "outputs": [],
   "source": []
  },
  {
   "cell_type": "code",
   "execution_count": 74,
   "metadata": {
    "collapsed": false
   },
   "outputs": [
    {
     "ename": "AttributeError",
     "evalue": "'float' object has no attribute 'split'",
     "output_type": "error",
     "traceback": [
      "\u001b[0;31m---------------------------------------------------------------------------\u001b[0m",
      "\u001b[0;31mAttributeError\u001b[0m                            Traceback (most recent call last)",
      "\u001b[0;32m<ipython-input-74-fef5a1f6f3de>\u001b[0m in \u001b[0;36m<module>\u001b[0;34m()\u001b[0m\n\u001b[1;32m      1\u001b[0m \u001b[0mtweets\u001b[0m\u001b[0;34m[\u001b[0m\u001b[0;34m'nb_words'\u001b[0m\u001b[0;34m]\u001b[0m \u001b[0;34m=\u001b[0m \u001b[0;36m0\u001b[0m\u001b[0;34m\u001b[0m\u001b[0m\n\u001b[1;32m      2\u001b[0m \u001b[0;32mfor\u001b[0m \u001b[0mi\u001b[0m \u001b[0;32min\u001b[0m \u001b[0mrange\u001b[0m\u001b[0;34m(\u001b[0m\u001b[0mlen\u001b[0m\u001b[0;34m(\u001b[0m\u001b[0mtweets\u001b[0m\u001b[0;34m[\u001b[0m\u001b[0;34m'text'\u001b[0m\u001b[0;34m]\u001b[0m\u001b[0;34m)\u001b[0m\u001b[0;34m)\u001b[0m\u001b[0;34m:\u001b[0m\u001b[0;34m\u001b[0m\u001b[0m\n\u001b[0;32m----> 3\u001b[0;31m     \u001b[0mtweets\u001b[0m\u001b[0;34m[\u001b[0m\u001b[0;34m'nb_words'\u001b[0m\u001b[0;34m]\u001b[0m\u001b[0;34m[\u001b[0m\u001b[0mi\u001b[0m\u001b[0;34m]\u001b[0m \u001b[0;34m=\u001b[0m \u001b[0mlen\u001b[0m\u001b[0;34m(\u001b[0m\u001b[0mtweets\u001b[0m\u001b[0;34m[\u001b[0m\u001b[0;34m'text'\u001b[0m\u001b[0;34m]\u001b[0m\u001b[0;34m[\u001b[0m\u001b[0mi\u001b[0m\u001b[0;34m]\u001b[0m\u001b[0;34m.\u001b[0m\u001b[0msplit\u001b[0m\u001b[0;34m(\u001b[0m\u001b[0;34m' '\u001b[0m\u001b[0;34m)\u001b[0m\u001b[0;34m)\u001b[0m\u001b[0;34m\u001b[0m\u001b[0m\n\u001b[0m",
      "\u001b[0;31mAttributeError\u001b[0m: 'float' object has no attribute 'split'"
     ]
    }
   ],
   "source": [
    "tweets['nb_words'] = 0\n",
    "for i in range(len(tweets['text'])):\n",
    "    tweets['nb_words'][i] = len(tweets['text'][i].split(' '))"
   ]
  },
  {
   "cell_type": "code",
   "execution_count": null,
   "metadata": {
    "collapsed": true
   },
   "outputs": [],
   "source": []
  },
  {
   "cell_type": "code",
   "execution_count": null,
   "metadata": {
    "collapsed": false
   },
   "outputs": [],
   "source": [
    "tweets['hour'] = pd.DatetimeIndex(tweets['date']).hour\n",
    "tweets['date'] = pd.DatetimeIndex(tweets['date']).date\n",
    "tweets['minute'] = pd.DatetimeIndex(tweets['date']).minute"
   ]
  },
  {
   "cell_type": "code",
   "execution_count": null,
   "metadata": {
    "collapsed": false
   },
   "outputs": [],
   "source": [
    "tweets_hour = tweets.groupby(['hour'])['retweets'].sum()\n",
    "tweets_minute = tweets.groupby(['minute'])['retweets'].sum()\n",
    "tweets['text_len'] = tweets['text'].str.len()\n",
    "tweets_avgtxt_hour = tweets.groupby(['hour'])['text_len'].mean()\n",
    "tweets_avgwrd_hour = tweets.groupby(['hour'])['nb_words'].mean()\n"
   ]
  },
  {
   "cell_type": "code",
   "execution_count": null,
   "metadata": {
    "collapsed": false
   },
   "outputs": [],
   "source": [
    "import seaborn as sns\n",
    "tweets_hour.transpose().plot(kind='line',figsize=(6.5, 4))\n",
    "plt.legend(bbox_to_anchor=(1.05, 1), loc=2, borderaxespad=0.)\n",
    "plt.title('The number of retweet by hour', bbox={'facecolor':'0.8', 'pad':0})"
   ]
  },
  {
   "cell_type": "code",
   "execution_count": null,
   "metadata": {
    "collapsed": false
   },
   "outputs": [],
   "source": [
    "tweets_avgtxt_hour.transpose().plot(kind='line',figsize=(6.5, 4))\n",
    "plt.legend(bbox_to_anchor=(1.05, 1), loc=2, borderaxespad=0.)\n",
    "plt.title('The Average of lenght by hour', bbox={'facecolor':'0.8', 'pad':0})"
   ]
  },
  {
   "cell_type": "code",
   "execution_count": null,
   "metadata": {
    "collapsed": false
   },
   "outputs": [],
   "source": [
    "tweets_avgwrd_hour.transpose().plot(kind='line',figsize=(6.5, 4))\n",
    "plt.legend(bbox_to_anchor=(1.05, 1), loc=2, borderaxespad=0.)\n",
    "plt.title('The Average number of words by hour', bbox={'facecolor':'0.8', 'pad':0})"
   ]
  },
  {
   "cell_type": "code",
   "execution_count": null,
   "metadata": {
    "collapsed": true
   },
   "outputs": [],
   "source": [
    "Sentiment Analysis"
   ]
  },
  {
   "cell_type": "code",
   "execution_count": null,
   "metadata": {
    "collapsed": false
   },
   "outputs": [],
   "source": [
    "from sklearn.feature_extraction.text import TfidfVectorizer\n",
    "####\n",
    "from nltk.stem import WordNetLemmatizer\n",
    "#tweets['text_sep'] = [''.join(z).strip() for z in tweets['text_new']]\n",
    "tweets['text_lem'] = [''.join([WordNetLemmatizer().lemmatize(re.sub('[^A-Za-z]', ' ', line)) for line in lists]).strip() for lists in tweets['text_new']]       \n",
    "####\n",
    "vectorizer = TfidfVectorizer(max_df=0.5,max_features=10000,min_df=10,stop_words='english',use_idf=True)\n",
    "X = vectorizer.fit_transform(tweets['text_lem'].str.upper())\n",
    "print(X.shape)\n",
    "#print(tweets['text_sep'])\n",
    "#print(tweets['text_new'])"
   ]
  },
  {
   "cell_type": "code",
   "execution_count": null,
   "metadata": {
    "collapsed": false
   },
   "outputs": [],
   "source": [
    "from nltk.sentiment.vader import SentimentIntensityAnalyzer\n",
    "from nltk.sentiment.util import *\n",
    "\n",
    "from nltk import tokenize\n",
    "\n",
    "sid = SentimentIntensityAnalyzer()\n",
    "\n",
    "tweets['sentiment_compound_polarity']=tweets.text_lem.apply(lambda x:sid.polarity_scores(x)['compound'])\n",
    "tweets['sentiment_neutral']=tweets.text_lem.apply(lambda x:sid.polarity_scores(x)['neu'])\n",
    "tweets['sentiment_negative']=tweets.text_lem.apply(lambda x:sid.polarity_scores(x)['neg'])\n",
    "tweets['sentiment_pos']=tweets.text_lem.apply(lambda x:sid.polarity_scores(x)['pos'])\n",
    "tweets['sentiment_type']=''\n",
    "tweets.loc[tweets.sentiment_compound_polarity>0,'sentiment_type']='POSITIVE'\n",
    "tweets.loc[tweets.sentiment_compound_polarity==0,'sentiment_type']='NEUTRAL'\n",
    "tweets.loc[tweets.sentiment_compound_polarity<0,'sentiment_type']='NEGATIVE'\n",
    "tweets.head()"
   ]
  },
  {
   "cell_type": "code",
   "execution_count": null,
   "metadata": {
    "collapsed": false
   },
   "outputs": [],
   "source": [
    "import matplotlib\n",
    "matplotlib.style.use('ggplot')\n",
    "\n",
    "tweets_sentiment = tweets.groupby(['sentiment_type'])['sentiment_neutral'].count()\n",
    "tweets_sentiment.rename(\"\",inplace=True)\n",
    "explode = (0, 0, 1.0)\n",
    "plt.subplot(221)\n",
    "tweets_sentiment.transpose().plot(kind='barh',figsize=(10, 6))\n",
    "plt.title('Sentiment Analysis 1', bbox={'facecolor':'0.8', 'pad':0})\n",
    "plt.subplot(222)\n",
    "tweets_sentiment.plot(kind='pie',figsize=(10, 6),autopct='%1.1f%%',shadow=True,explode=explode)\n",
    "plt.legend(bbox_to_anchor=(1, 1), loc=3, borderaxespad=0.)\n",
    "plt.title('Sentiment Analysis 2', bbox={'facecolor':'0.8', 'pad':0})\n",
    "plt.show()"
   ]
  },
  {
   "cell_type": "code",
   "execution_count": null,
   "metadata": {
    "collapsed": true
   },
   "outputs": [],
   "source": [
    "tweets['count'] = 1\n",
    "tweets_filtered = tweets[['hour', 'sentiment_type', 'count']]\n",
    "pivot_tweets = tweets_filtered.pivot_table(tweets_filtered, index=[\"sentiment_type\", \"hour\"], aggfunc=np.sum)"
   ]
  },
  {
   "cell_type": "code",
   "execution_count": null,
   "metadata": {
    "collapsed": false
   },
   "outputs": [],
   "source": [
    "sentiment_type = pivot_tweets.index.get_level_values(0).unique()\n",
    "\n",
    "for sentiment_type in sentiment_type:\n",
    "    split = pivot_tweets.xs(sentiment_type)\n",
    "    split[\"count\"].plot( legend=True, label='' + str(sentiment_type))\n",
    "plt.title('Evolution of sentiments by hour', bbox={'facecolor':'0.8', 'pad':0}) "
   ]
  },
  {
   "cell_type": "code",
   "execution_count": null,
   "metadata": {
    "collapsed": true
   },
   "outputs": [],
   "source": []
  },
  {
   "cell_type": "code",
   "execution_count": null,
   "metadata": {
    "collapsed": true
   },
   "outputs": [],
   "source": []
  },
  {
   "cell_type": "code",
   "execution_count": null,
   "metadata": {
    "collapsed": true
   },
   "outputs": [],
   "source": []
  },
  {
   "cell_type": "code",
   "execution_count": null,
   "metadata": {
    "collapsed": true
   },
   "outputs": [],
   "source": []
  },
  {
   "cell_type": "code",
   "execution_count": null,
   "metadata": {
    "collapsed": true
   },
   "outputs": [],
   "source": []
  },
  {
   "cell_type": "code",
   "execution_count": null,
   "metadata": {
    "collapsed": true
   },
   "outputs": [],
   "source": []
  },
  {
   "cell_type": "code",
   "execution_count": null,
   "metadata": {
    "collapsed": true
   },
   "outputs": [],
   "source": []
  },
  {
   "cell_type": "code",
   "execution_count": null,
   "metadata": {
    "collapsed": true
   },
   "outputs": [],
   "source": []
  },
  {
   "cell_type": "code",
   "execution_count": null,
   "metadata": {
    "collapsed": true
   },
   "outputs": [],
   "source": []
  },
  {
   "cell_type": "code",
   "execution_count": null,
   "metadata": {
    "collapsed": true
   },
   "outputs": [],
   "source": []
  },
  {
   "cell_type": "code",
   "execution_count": null,
   "metadata": {
    "collapsed": true
   },
   "outputs": [],
   "source": []
  },
  {
   "cell_type": "code",
   "execution_count": null,
   "metadata": {
    "collapsed": true
   },
   "outputs": [],
   "source": []
  },
  {
   "cell_type": "code",
   "execution_count": null,
   "metadata": {
    "collapsed": true
   },
   "outputs": [],
   "source": []
  },
  {
   "cell_type": "code",
   "execution_count": null,
   "metadata": {
    "collapsed": true
   },
   "outputs": [],
   "source": []
  },
  {
   "cell_type": "code",
   "execution_count": null,
   "metadata": {
    "collapsed": true
   },
   "outputs": [],
   "source": []
  }
 ],
 "metadata": {
  "kernelspec": {
   "display_name": "Python 3",
   "language": "python",
   "name": "python3"
  },
  "language_info": {
   "codemirror_mode": {
    "name": "ipython",
    "version": 3
   },
   "file_extension": ".py",
   "mimetype": "text/x-python",
   "name": "python",
   "nbconvert_exporter": "python",
   "pygments_lexer": "ipython3",
   "version": "3.6.0"
  }
 },
 "nbformat": 4,
 "nbformat_minor": 2
}
